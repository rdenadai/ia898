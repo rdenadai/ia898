{
 "cells": [
  {
   "cell_type": "code",
   "execution_count": 1,
   "metadata": {},
   "outputs": [],
   "source": [
    "import numpy as np\n",
    "import matplotlib.pyplot as plt\n",
    "from PIL import Image\n",
    "#import random\n",
    "from scipy.signal import convolve2d\n",
    "from scipy.ndimage.filters import laplace"
   ]
  },
  {
   "cell_type": "markdown",
   "metadata": {},
   "source": [
    "### Função para display de lista de imagens"
   ]
  },
  {
   "cell_type": "code",
   "execution_count": 2,
   "metadata": {},
   "outputs": [],
   "source": [
    "def disp(f,dpi=72):\n",
    "    images=[]\n",
    "    for f_i in f:\n",
    "        images.append(Image.fromarray(np.uint8(f_i)))\n",
    " \n",
    "    # tamanho do display de cada imagem \n",
    "    _dpi=dpi  # padrao da funcao display da biblioteca PIL\n",
    "    altura,largura=images[0].size # em pixels (assumimos o mesmo tamanho para todas)\n",
    "    figsizeinches=largura/float(_dpi),altura/float(_dpi) # em polegadas\n",
    "    fig = plt.figure(figsize=figsizeinches)\n",
    "    \n",
    "    # valores iniciais\n",
    "    xpos=0\n",
    "    ypos=0\n",
    "    espacamento=0.02\n",
    "    tam_y=largura/largura\n",
    "    tam_x=altura/largura\n",
    "\n",
    "    #mod\n",
    "    max_row_size=4\n",
    "    i=0\n",
    "    \n",
    "    for image in images:\n",
    "        ax=fig.add_axes([xpos,ypos,tam_x,tam_y]) \n",
    "        ax.axis('off')\n",
    "        ax.imshow(image)\n",
    "        \n",
    "        # incrementos\n",
    "        i=i+1                  # contagem de figuras\n",
    "        if i%max_row_size==0:  # troca de linha\n",
    "            xpos=0\n",
    "            ypos=ypos-tam_y-espacamento\n",
    "        else:                  # continua na linha\n",
    "            xpos=xpos+tam_x+espacamento\n",
    "    plt.show()"
   ]
  },
  {
   "cell_type": "markdown",
   "metadata": {},
   "source": [
    "## Método 1. Inpainting utilizando a equação de calor"
   ]
  },
  {
   "cell_type": "code",
   "execution_count": 3,
   "metadata": {},
   "outputs": [],
   "source": [
    "def _heat_inpaint(f,antimask,n=None,epsilon=0.001):\n",
    "    # antimask: 0 dentro de omega\n",
    "    #         : 1 fora de omega\n",
    "    # mask    : 1 dentro de omega\n",
    "    #         : 0 fora de omega\n",
    "    \n",
    "    # tratamento da máscara\n",
    "    T=np.zeros(256)\n",
    "    T[0]=1\n",
    "    mask=T[antimask.astype('uint8')].astype('uint8')\n",
    "    \n",
    "    f=f*(mask^1)\n",
    "    \n",
    "    alpha=0.1\n",
    "\n",
    "    restauracao=f.copy()\n",
    "    if n!=None:\n",
    "        for i in range(0,n):\n",
    "            f_t=alpha*laplace(restauracao)\n",
    "            restauracao=restauracao+f_t*mask\n",
    "    else:\n",
    "        i=0\n",
    "        while True:\n",
    "            f_t=alpha*laplace(restauracao)\n",
    "            restauracao_atual=restauracao+f_t*mask\n",
    "            i=i+1\n",
    "            err_mat=np.abs(restauracao_atual-restauracao)\n",
    "            err=sum(map(sum,err_mat))\n",
    "            if err<epsilon:\n",
    "                break\n",
    "            restauracao=restauracao_atual\n",
    "    return restauracao.astype('uint8')"
   ]
  },
  {
   "cell_type": "markdown",
   "metadata": {},
   "source": [
    "## Método 2. Inpainting utilizando filtro gaussiano (fast inpainting)"
   ]
  },
  {
   "cell_type": "code",
   "execution_count": 4,
   "metadata": {},
   "outputs": [],
   "source": [
    "def _fast_inpaint(f,antimask,n=None,last=True,epsilon=0.001):\n",
    "    # antimask: 0 dentro de omega\n",
    "    #         : 1 fora de omega\n",
    "    # mask: 1 dentro de omega\n",
    "    #       0 fora de omega\n",
    "    \n",
    "    # tratamento da máscara\n",
    "    T=np.zeros(256)\n",
    "    T[0]=1\n",
    "    mask=T[antimask.astype('uint8')].astype('uint8')\n",
    "    f=f*(mask^1)\n",
    "\n",
    "    #a=0.073235\n",
    "    #b=0.176765\n",
    "    #kernel=np.array([[a,b,a],[b,0,b],[a,b,a]])\n",
    "\n",
    "    a=1/16\n",
    "    b=1/8\n",
    "    c=1/4\n",
    "    kernel=np.array([[a,b,a],[b,c,b],[a,b,a]])\n",
    "    \n",
    "    restauracao=f.copy()\n",
    "    if n!=None:\n",
    "        for i in range(0,n):\n",
    "            f_t=convolve2d(restauracao,kernel,mode='same')\n",
    "            restauracao=f+f_t*mask\n",
    "    else:\n",
    "        i=0\n",
    "        while True:\n",
    "            f_t=convolve2d(restauracao,kernel,mode='same')\n",
    "            restauracao_atual=f+f_t*mask\n",
    "            i=i+1\n",
    "            err_mat=np.abs(restauracao_atual-restauracao)\n",
    "            err=sum(map(sum,err_mat))\n",
    "            if err<epsilon:\n",
    "                break\n",
    "            restauracao=restauracao_atual\n",
    "        \n",
    "    return restauracao.astype('uint8')"
   ]
  },
  {
   "cell_type": "markdown",
   "metadata": {},
   "source": [
    "## Inpainting para imagens coloridas"
   ]
  },
  {
   "cell_type": "code",
   "execution_count": 5,
   "metadata": {},
   "outputs": [],
   "source": [
    "def inpaint_rgb(f_rgb,mask_rgb,mode='fast',n=None,e=0.01):\n",
    "    # canais da imagem\n",
    "    f_r=f_rgb[:,:,0]\n",
    "    f_g=f_rgb[:,:,1]\n",
    "    f_b=f_rgb[:,:,2]\n",
    "    \n",
    "    # canais da máscara\n",
    "    mask_r=mask_rgb[:,:,0]\n",
    "    mask_g=mask_rgb[:,:,1]\n",
    "    mask_b=mask_rgb[:,:,2]\n",
    "    \n",
    "    # modes: \n",
    "    #   'heat' : usa _heat_inpaint()\n",
    "    #   'fast' : usa _fast_inpaint()\n",
    "    if mode=='heat':\n",
    "        restauracao_r=_heat_inpaint(f_r,mask_r,n=n,epsilon=e)\n",
    "        restauracao_g=_heat_inpaint(f_g,mask_g,n=n,epsilon=e)\n",
    "        restauracao_b=_heat_inpaint(f_b,mask_b,n=n,epsilon=e)\n",
    "    elif mode=='fast':\n",
    "        restauracao_r=_fast_inpaint(f_r,mask_r,n=n,epsilon=e)\n",
    "        restauracao_g=_fast_inpaint(f_g,mask_g,n=n,epsilon=e)\n",
    "        restauracao_b=_fast_inpaint(f_b,mask_b,n=n,epsilon=e)\n",
    "        \n",
    "    restauracao_rgb=np.zeros(f_rgb.shape)\n",
    "    restauracao_rgb[:,:,0]=restauracao_r\n",
    "    restauracao_rgb[:,:,1]=restauracao_g\n",
    "    restauracao_rgb[:,:,2]=restauracao_b\n",
    "    \n",
    "    return restauracao_rgb.astype('uint8')"
   ]
  },
  {
   "cell_type": "code",
   "execution_count": null,
   "metadata": {},
   "outputs": [],
   "source": []
  },
  {
   "cell_type": "code",
   "execution_count": null,
   "metadata": {},
   "outputs": [],
   "source": []
  }
 ],
 "metadata": {
  "kernelspec": {
   "display_name": "Python 3",
   "language": "python",
   "name": "python3"
  },
  "language_info": {
   "codemirror_mode": {
    "name": "ipython",
    "version": 3
   },
   "file_extension": ".py",
   "mimetype": "text/x-python",
   "name": "python",
   "nbconvert_exporter": "python",
   "pygments_lexer": "ipython3",
   "version": "3.6.5"
  }
 },
 "nbformat": 4,
 "nbformat_minor": 2
}
