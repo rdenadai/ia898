{
 "cells": [
  {
   "cell_type": "markdown",
   "metadata": {},
   "source": [
    "# Template Matching\n",
    "## IA898 - Processamento de Imagens Digitais - Segundo semestre 2018\n",
    "\n",
    "**Alessandra Rodrigues Cardoso Padovam RA: 210220**"
   ]
  },
  {
   "cell_type": "markdown",
   "metadata": {},
   "source": [
    "1. [Entendendo a correlação entre imagens](A_Entendendo a correlação entre imagens.ipynb)\n",
    "2. [Correlação cruzada - Cross correlation - Scipy](B_Correlação_Cruzada_Scipy.ipynb)\n",
    "3. [Correlação Cruzada Normalizada - Open cv](C_OpenCV.ipynb)\n"
   ]
  },
  {
   "cell_type": "code",
   "execution_count": null,
   "metadata": {},
   "outputs": [],
   "source": []
  }
 ],
 "metadata": {
  "kernelspec": {
   "display_name": "Python 3",
   "language": "python",
   "name": "python3"
  },
  "language_info": {
   "codemirror_mode": {
    "name": "ipython",
    "version": 3
   },
   "file_extension": ".py",
   "mimetype": "text/x-python",
   "name": "python",
   "nbconvert_exporter": "python",
   "pygments_lexer": "ipython3",
   "version": "3.6.5"
  }
 },
 "nbformat": 4,
 "nbformat_minor": 2
}
