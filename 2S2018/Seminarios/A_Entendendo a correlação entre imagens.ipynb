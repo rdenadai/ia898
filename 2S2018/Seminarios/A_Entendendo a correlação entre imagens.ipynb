{
 "cells": [
  {
   "cell_type": "markdown",
   "metadata": {},
   "source": [
    "## Entendendo a correlação entre imagens - biblioteca Scipy  signal.correlate2d"
   ]
  },
  {
   "cell_type": "markdown",
   "metadata": {},
   "source": [
    "### A correlação consiste no processo mover uma máscara (também chamada de kernel ou janela), através de uma imagem a ser inspecionada, com objetivo de calcular a soma do produtos em cada posição.\n",
    "\n",
    "#### Exemplo simples, conforme demonstração da AULA 5 (Slide 9 e 10):\n",
    "- Os valores 0 correspondem a cor preta;\n",
    "- Os valores 1 correspondem a cor branca;\n",
    "- Criação de uma template 3x3;\n",
    "- Criação de um array a ser inspecionado;\n",
    "- Cada pixel do array a ser inspecionado, será o resultado da soma dos produtos entre o template e os respectivos indices do array;\n",
    "- O resultado no array final será a para cada pixel o valor de correlação com o template, sendo que o valor mais próximo de 0 escuros (menos intensidade) é o que possuem menos correspondencia e valores mais elevados - claros (mais intensidade) são os de maior correspôndencia."
   ]
  },
  {
   "cell_type": "code",
   "execution_count": 1,
   "metadata": {},
   "outputs": [
    {
     "name": "stdout",
     "output_type": "stream",
     "text": [
      "template (kernel) =\n",
      " [[0 0 0]\n",
      " [0 1 1]\n",
      " [0 1 0]]\n",
      "Imagem/array a ser inspecionado =\n",
      " [[0 0 0 0 0]\n",
      " [0 0 0 0 0]\n",
      " [0 0 1 1 0]\n",
      " [0 0 1 1 0]\n",
      " [0 0 1 0 0]]\n",
      "Resultado da correlação =\n",
      " [[0 0 0 0 0]\n",
      " [0 0 1 1 0]\n",
      " [0 1 3 2 0]\n",
      " [0 1 3 1 0]\n",
      " [0 1 2 0 0]]\n"
     ]
    }
   ],
   "source": [
    "import numpy as np\n",
    "import matplotlib.pyplot as plt\n",
    "import matplotlib.image as mpimg\n",
    "from scipy import signal\n",
    "\n",
    "template = np.array([[0,0,0],[0,1,1],[0,1,0]])\n",
    "print('template (kernel) =\\n',template)\n",
    "\n",
    "image = np.array([[0,0,0,0,0],[0,0,0,0,0],[0,0,1,1,0],[0,0,1,1,0],[0,0,1,0,0]])\n",
    "print('Imagem/array a ser inspecionado =\\n',image)\n",
    "\n",
    "corr = signal.correlate2d(image, template, boundary='symm', mode='same')\n",
    "y, x = np.unravel_index(np.argmax(corr), corr.shape)  # Encontrar a correspondencia: Converte um índice simples ou uma matriz de índices simples em uma tupla de matrizes de coordenadas\n",
    "#TENTAR IMPLEMENTAR A CORRELAÇÃO SEM BIBLIOTECA\n",
    "#print(np.argmax(corr))\n",
    "#print(corr.shape)\n",
    "#print(y,x)\n",
    "corr.astype(int)\n",
    "print('Resultado da correlação =\\n',corr)\n"
   ]
  },
  {
   "cell_type": "code",
   "execution_count": 2,
   "metadata": {},
   "outputs": [
    {
     "name": "stdout",
     "output_type": "stream",
     "text": [
      "12\n",
      "(5, 5)\n",
      "2 2\n",
      "[[0 0 0]\n",
      " [0 1 1]\n",
      " [0 1 0]]\n",
      "[[0 0 0 0 0]\n",
      " [0 0 1 1 0]\n",
      " [0 1 3 2 0]\n",
      " [0 1 3 1 0]\n",
      " [0 1 2 0 0]]\n"
     ]
    }
   ],
   "source": [
    "corr = signal.correlate2d(image, template, boundary='symm', mode='same')\n",
    "y, x = np.unravel_index(np.argmax(corr), corr.shape)  # Encontrar a correspondencia: Converte um índice simples ou uma matriz de índices simples em uma tupla de matrizes de coordenadas\n",
    "print(np.argmax(corr))\n",
    "print(corr.shape)\n",
    "print(y,x)\n",
    "corr.astype(int)\n",
    "print(template)\n",
    "print(corr)\n",
    "#plt.imshow(template, cmap='gray')"
   ]
  },
  {
   "cell_type": "code",
   "execution_count": 3,
   "metadata": {},
   "outputs": [
    {
     "name": "stderr",
     "output_type": "stream",
     "text": [
      "C:\\Users\\le-rc\\Anaconda3\\lib\\site-packages\\matplotlib\\figure.py:459: UserWarning: matplotlib is currently using a non-GUI backend, so cannot show the figure\n",
      "  \"matplotlib is currently using a non-GUI backend, \"\n"
     ]
    },
    {
     "data": {
      "image/png": "[encoded data removed]",
      "text/plain": [
       "<Figure size 432x1080 with 4 Axes>"
      ]
     },
     "metadata": {},
     "output_type": "display_data"
    }
   ],
   "source": [
    "fig, (ax_orig, ax_template, ax_corr, ax_result) = plt.subplots(4, 1, figsize=(6, 15))\n",
    "ax_orig.imshow(image, cmap='gray')\n",
    "ax_orig.set_title('Original')\n",
    "#ax_orig.set_axis_off()\n",
    "\n",
    "ax_template.imshow(template, cmap='gray')\n",
    "ax_template.set_title('Template')\n",
    "ax_template.set_axis_off()\n",
    "\n",
    "ax_corr.imshow(corr, cmap='gray')\n",
    "ax_corr.set_title('Cross-correlation')\n",
    "ax_corr.set_axis_off()\n",
    "\n",
    "ax_result.imshow(image, cmap='gray')\n",
    "ax_result.set_title('Resultado da correspondência')\n",
    "ax_result.set_axis_off()\n",
    "\n",
    "ax_result.plot(x, y, 'ro')\n",
    "fig.show()"
   ]
  },
  {
   "cell_type": "code",
   "execution_count": 4,
   "metadata": {},
   "outputs": [
    {
     "data": {
      "image/png": "[encoded data removed]",
      "text/plain": [
       "<Figure size 432x288 with 1 Axes>"
      ]
     },
     "metadata": {},
     "output_type": "display_data"
    }
   ],
   "source": [
    "h,g = np.histogram(corr,255)\n",
    "plt.plot(h)\n",
    "plt.show()"
   ]
  },
  {
   "cell_type": "code",
   "execution_count": null,
   "metadata": {},
   "outputs": [],
   "source": []
  }
 ],
 "metadata": {
  "kernelspec": {
   "display_name": "Python 3",
   "language": "python",
   "name": "python3"
  },
  "language_info": {
   "codemirror_mode": {
    "name": "ipython",
    "version": 3
   },
   "file_extension": ".py",
   "mimetype": "text/x-python",
   "name": "python",
   "nbconvert_exporter": "python",
   "pygments_lexer": "ipython3",
   "version": "3.6.5"
  }
 },
 "nbformat": 4,
 "nbformat_minor": 2
}
