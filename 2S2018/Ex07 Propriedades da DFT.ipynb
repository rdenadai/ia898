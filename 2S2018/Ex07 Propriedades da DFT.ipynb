{
 "cells": [
  {
   "cell_type": "markdown",
   "metadata": {},
   "source": [
    "# Ex07 - Propriedades da DFT"
   ]
  },
  {
   "cell_type": "markdown",
   "metadata": {},
   "source": [
    "### Parte 1 - Convolução periódica\n",
    "\n",
    "Tente entender a convolução periódica [(notebook)](11 Teorema da Convolucao.ipynb), comparando-a com a convolução já estudada anteriormente (scypi.signal.convolve2d). Avalie as diferenças em um exemplo numérico pequeno e depois, utilizando uma imagem.\n",
    "\n",
    "- Desafio opcional: crie um exemplo com uma imagem numérica pequena e um kernel 3x3. Tente obter o mesmo resultado usando a função *convp* e a função *scypi.signal.convolve2d*. Ou seja, implemente a convolução periódica a partir da convolução linear."
   ]
  },
  {
   "cell_type": "markdown",
   "metadata": {},
   "source": [
    "### Parte 2 - Teorema da convolução\n",
    "\n",
    "Crie uma demonstração usando imagens para o Teorema da Convolução. Lembre-se, o objetivo é mostrar que o teorema é válido, ou seja, que $ F(f * g) = F(f) \\cdot F(g) $"
   ]
  },
  {
   "cell_type": "markdown",
   "metadata": {},
   "source": [
    "### Parte3 - Decomposição de uma imagem em senóides\n",
    "\n",
    "Implemente uma função para demonstrar a decomposição/composição de uma imagem a partir da DFT. A ideia consiste em ter 4 figuras por iteração: \n",
    "\n",
    "- imagem original, \n",
    "- imagem recomposta até aquela iteração, \n",
    "- espectro de Fourier, e \n",
    "- última componente (\"telha\") a ser adicionada. \n",
    "\n",
    "A medida que um novo par *F(u,v)* e *F(-u,-v)* em cada iteração é adicionado para compor a imagem original, o par deve ser mostrado na janela do espectro de Fourier e na forma de imagem (\"telha\"). A ordem de pegar estas frequências pode ser uma varredura quadrada em torno do centro do espectro. Lembrar de pegar sempre um par simétrico da DFT, *F(u,v)* e *F(-u,-v)*. A função deverá receber como parâmetro de entrada quantas iterações serão realizadas, ou seja, quantas componentes serão adicionadas para compor a imagem original. "
   ]
  }
 ],
 "metadata": {
  "kernelspec": {
   "display_name": "Python 3",
   "language": "python",
   "name": "python3"
  },
  "language_info": {
   "codemirror_mode": {
    "name": "ipython",
    "version": 3
   },
   "file_extension": ".py",
   "mimetype": "text/x-python",
   "name": "python",
   "nbconvert_exporter": "python",
   "pygments_lexer": "ipython3",
   "version": "3.6.1"
  }
 },
 "nbformat": 4,
 "nbformat_minor": 2
}
