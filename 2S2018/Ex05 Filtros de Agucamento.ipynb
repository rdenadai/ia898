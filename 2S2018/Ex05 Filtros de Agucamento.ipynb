{
 "cells": [
  {
   "cell_type": "markdown",
   "metadata": {},
   "source": [
    "# Ex05 - Filtros de aguçamento"
   ]
  },
  {
   "cell_type": "markdown",
   "metadata": {},
   "source": [
    "## 1. Unsharp mask\n",
    "\n",
    "Um filtro bastante utilizado para aguçar a imagem é denominado *unsharp mask*. Ele é capaz de realçar bordas calculando a diferença entre a imagem original e uma versão suavizada da imagem filtrada pela gaussiana. Para conseguir o realce de bordas, faça:\n",
    "\n",
    "- Calcule primeiro a *unsharp mask* ($df$)\n",
    "- Faça uma ponderação entre a imagem original e a imagem diferença: \n",
    "$$((1-k)*f + k*df)$$ onde $f$ é a imagem, $df$ é a *unsharp mask* e $k$ é o fator de ponderação \n",
    "- Mude o fator de ponderacao $k$ e veja o efeito na imagem final\n"
   ]
  },
  {
   "cell_type": "markdown",
   "metadata": {},
   "source": [
    "## 2. Filtro de Sobel\n",
    "\n",
    "Existem vários filtros que procuram realçar as bordas da imagem. Um dos mais conhecidos é o Operador Sobel, composto por uma máscara vertical (Sv) e uma máscara horizontal (Sh)."
   ]
  },
  {
   "cell_type": "code",
   "execution_count": 8,
   "metadata": {},
   "outputs": [
    {
     "name": "stdout",
     "output_type": "stream",
     "text": [
      "Sv =\n",
      " [[ 1  0 -1]\n",
      " [ 2  0 -2]\n",
      " [ 1  0 -1]]\n",
      "Sh =\n",
      " [[ 1  2  1]\n",
      " [ 0  0  0]\n",
      " [-1 -2 -1]]\n"
     ]
    }
   ],
   "source": [
    "import numpy as np\n",
    "\n",
    "Sv = np.array([[1,0,-1],[2,0,-2],[1,0,-1]])\n",
    "print('Sv =\\n',Sv)\n",
    "\n",
    "Sh = np.array([[1,2,1],[0,0,0],[-1,-2,-1]])\n",
    "print('Sh =\\n',Sh)\n",
    "\n"
   ]
  },
  {
   "cell_type": "markdown",
   "metadata": {},
   "source": [
    "### 2.1 Implementar o operador Magnitude Sobel de uma imagem.\n",
    "\n",
    "A função MagSobel a ser implementada possui como parâmetro a imagem de entrada e deve seguir a seguinte equação:\n",
    "\n",
    "$$MagSobel = \\sqrt{f_h^2 + f_v^2}$$\n",
    "\n",
    "onde $f_h$ é a imagem de entrada convolvida com o operador de Sobel horizontal e $f_v$ é a imagem de entrada convolvida com o operador de Sobel vertical.\n",
    "\n",
    "Existem alguns cuidados necessários:\n",
    "\n",
    "- As operações devem todas serem feitas em ponto flutuante e os valores finais serão maiores de 255. Assim, a função que calcula a magnitude do gradiente Sobel é feita de acordo com a equação dada. \n",
    "- Lembre-se que para visualizar a imagem será necessário antes normalizar a imagem utilizando, por exemplo, o ianormalize. \n",
    "- Adicionalmente, como a máscara Sobel é 3x3, a imagem resultante terá altura e largura maiores que a original por 2x2 pixels já que a imagem resultante da convolução linear é a soma dos tamanhos em cada dimensão, menos 1.\n",
    "\n"
   ]
  },
  {
   "cell_type": "markdown",
   "metadata": {},
   "source": [
    "### 2.2 Implementar uma funcao que retorna o ângulo da borda de Sobel\n",
    "\n",
    "Após implementar a função que retorna o ângulo da borda de Sobel:\n",
    "- calcule o histograma da distribuição deste ângulo, somente para valores de magnitude de borda acima de um limiar $T$;\n",
    "- visualize a imagem de ângulo utilizando uma tabela de cores circular para os ângulos e uma cor diferente para usar nos locais onde a magnitude for menor que $T$. Plote junto com a figura, a tabela de cores usada;\n"
   ]
  },
  {
   "cell_type": "markdown",
   "metadata": {},
   "source": [
    "## 3. Propriedades da convolução\n",
    "\n",
    "Realize experimentos para demostrar as propriedades da convolução:\n",
    "\n",
    "- Comutativa $$f(x,y)*g(x,y) = g(x,y)*f(x,y)$$\n",
    "- Associativa $$f(x,y)*[g(x,y)*h(x,y)] = [f(x,y)*g(x,y)]*h(x,y)$$\n",
    "\n",
    "Crie um exemplo que demonstre como usar a propriedade associativa para realizar a filtragem de uma imagem por um filtro passa-faixa. (Dica: use uma máscara passa-baixas e uma máscara passa-altas)."
   ]
  }
 ],
 "metadata": {
  "kernelspec": {
   "display_name": "Python 3",
   "language": "python",
   "name": "python3"
  },
  "language_info": {
   "codemirror_mode": {
    "name": "ipython",
    "version": 3
   },
   "file_extension": ".py",
   "mimetype": "text/x-python",
   "name": "python",
   "nbconvert_exporter": "python",
   "pygments_lexer": "ipython3",
   "version": "3.6.1"
  }
 },
 "nbformat": 4,
 "nbformat_minor": 2
}
