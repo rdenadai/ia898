{
 "cells": [
  {
   "cell_type": "markdown",
   "metadata": {},
   "source": [
    "# IA898 - Processamento de Imagens Digitais\n",
    "## Segundo semestre de 2018\n",
    "*Leticia Rittner*\n"
   ]
  },
  {
   "cell_type": "markdown",
   "metadata": {},
   "source": [
    "## Conteúdo\n",
    "\n",
    "### Introdução ao Processamento de Imagens\n",
    "\n",
    "1. [Overview](01 Processamento Imagens.ipynb)\n",
    "\n",
    "### Introdução às Imagens digitais\n",
    "    \n",
    "1. [Introdução ao NumPy](02 Aprendendo Numpy.ipynb) \n",
    "2. [Manipulando imagens: abrir, salvar, visualizar, criar](03 Lendo e Visualizando Imagens.ipynb) \n",
    "3. [Geração de imagens sintéticas](04 Gerando imagens sinteticas.ipynb) \t\n",
    "\n",
    "### Transformações radiométricas (ponto-a-ponto)\n",
    "\n",
    "1. [Histograma da Imagem](05 Histograma da imagem.ipynb)\n",
    "2. [Transformação de Intensidade](../master/tutorial_ti_2.ipynb)\n",
    "3. [Tutorial sobre equalização de histograma](../master/tutorial_hist_eq_2.ipynb)\n",
    "4. [Tutorial equalização de histograma por montagem de mosaico](../master/tutorial_pehist_1.ipynb)\n",
    "5. [Transformações em cores](06 Histograma de Imagens Coloridas.ipynb)\n",
    "\n",
    "### Transformações espaciais (vizinhança)\n",
    "\n",
    "1. [Filtragem no domínio espacial](07 Filtragem no dominio espacial.ipynb)\n",
    "2. [Convolução como média ponderada de translações da imagem](../master/tutorial_conv_3.ipynb)\n",
    "\n",
    "### Transformada de Fourier\n",
    "\n",
    "1. [Geração de ondas senoidais 1D e 2D](08 Ondas senoidais.ipynb)\n",
    "2. [Translação periódica](09 Translacao periodica.ipynb)\n",
    "3. [Propriedades da DFT](10 A transformada discreta de Fourier - DFT.ipynb)\n",
    "4. [Teorema da Convolução](11 Teorema da Convolucao.ipynb)\n",
    "4. [Filtros em frequência](12 Filtros em frequencia.ipynb)\n",
    "5. [Correlação de fase](13 Correlacao de fase.ipynb)\n",
    "\n",
    "### Segmentação\n",
    "\n",
    "1. [Segmentação por Otsu](14 Segmentacao por Otsu.ipynb)\n",
    "\n"
   ]
  },
  {
   "cell_type": "markdown",
   "metadata": {},
   "source": [
    "## Enunciados dos exercícios\n",
    "\n",
    "- [Exercício 1 - Aprendendo Numpy](Ex01 Aprendendo Numpy.ipynb)\n",
    "- [Exercício 2 - Resolução espacial e radiométrica](Ex02 Resolucao espacial e radiometrica.ipynb)\n",
    "- [Exercício 3 - Transformação de intensidade, realce e equalização de histograma](Ex03 Transformacao de intensidade.ipynb)\n",
    "- [Exercício 4 - Filtragem de imagens](Ex04 Filtragem de Imagens.ipynb)\n",
    "- [Exercício 5 - Filtros de Aguçamento](Ex05 Filtros de Agucamento.ipynb)\n",
    "- [Exercício 6 - Primeiros passos para a Transformada de Fourier](Ex06 Preparando para a Transformada de Fourier.ipynb)\n",
    "- [Exercício 7 - Propriedades da DFT](Ex07 Propriedades da DFT.ipynb)\n",
    "- [Exercício 8 - Aplicações da DFT: Filtragem e Template Matching](Ex08 Aplicacoes da DFT.ipynb)\n",
    "- [Exercício 9 - Técnicas de segmentação](Ex09 Tecnicas de segmentacao.ipynb)"
   ]
  },
  {
   "cell_type": "markdown",
   "metadata": {},
   "source": [
    "## Material dos Seminários (produzido pelos alunos)\n",
    "\n",
    "- [Correlação cruzada](./Seminarios/A_Entendendo a correlação entre imagens.ipynb)\n",
    "- [Correlação cruzada Scipy](./Seminarios/B_Correlação_Cruzada_Scipy.ipynb)\n",
    "- [Correlação cruzada_OpenCV](./Seminarios/C_OpenCV.ipynb)\n",
    "- [Compressão de imagens usando DCT](./Seminarios/CompressãoImagensDCT_Fernanda.ipynb)\n",
    "- [Compressão Fractal de Imagens](./Seminarios/Compressão_Fractal_de_Imagens.ipynb)\n",
    "- [Data augmentation](./Seminarios/Data_augmentation.ipynb)\n",
    "- [Dithering](./Seminarios/Dithering.ipynb)\n",
    "- [Inpainting](./Seminarios/inpainting.ipynb)\n",
    "- [Inpainting - slides](./Seminarios/slides.ipynb)\n",
    "- [Métricas de similaridade e dissimilaridade](./Seminarios/MÇtricas de Similaridade e Dissimilaridade entre Imagens.ipynb)\n",
    "- [Normalização](./Seminarios/Seminário Normalização.ipynb)\n",
    "- [Reconstrução Tomográfica](./Seminarios/TomoRecon.ipynb)\n",
    "- [Técnicas de focalização (aguçamento)](./Seminarios/IA898A_Seminario_MarcioAlbano.ipynb)\n",
    "- [Template matching](./Seminarios/IA898A_TemplateMatching_AlessandraRCPadovam.ipynb)\n",
    "- [Transformada de Karhunen-Loeve](./Seminarios/Transformada de Karhunen-Loeve.ipynb)\n",
    "- [Transformada de Hough](./Seminarios/Transformada_de_Hough.ipynb)\n",
    "- [Watershed](./Seminarios/Watershed.ipynb)"
   ]
  },
  {
   "cell_type": "markdown",
   "metadata": {},
   "source": [
    "## Links úteis\n",
    "\n",
    "- [Jupyter Notebook - documentação](http://jupyter-notebook.readthedocs.io/en/latest/notebook.html)\n",
    "- [Jupyter notebook - tips and tricks](https://www.dataquest.io/blog/jupyter-notebook-tips-tricks-shortcuts/)\n",
    "- [Tutorial breve - Python](../deliver/tutorial-python.ipynb)\n",
    "- [Tutorial breve - NumPy](../deliver/tutorial-numpy.ipynb)"
   ]
  }
 ],
 "metadata": {
  "anaconda-cloud": {},
  "kernelspec": {
   "display_name": "Python 3",
   "language": "python",
   "name": "python3"
  },
  "language_info": {
   "codemirror_mode": {
    "name": "ipython",
    "version": 3
   },
   "file_extension": ".py",
   "mimetype": "text/x-python",
   "name": "python",
   "nbconvert_exporter": "python",
   "pygments_lexer": "ipython3",
   "version": "3.6.1"
  }
 },
 "nbformat": 4,
 "nbformat_minor": 1
}
