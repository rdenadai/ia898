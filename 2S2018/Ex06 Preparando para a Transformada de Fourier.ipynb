{
 "cells": [
  {
   "cell_type": "markdown",
   "metadata": {},
   "source": [
    "# Ex06 - Primeiros passos para a Transformada de Fourier"
   ]
  },
  {
   "cell_type": "markdown",
   "metadata": {
    "collapsed": true
   },
   "source": [
    "### Parte 1 - Gerando ondas senoidas 1D e 2D\n",
    "\n",
    "Melhore o notebook sobre ondas senoidais ([link](08 Ondas senoidais.ipynb)), gerando outras senoides 2D e tentando interpretar o significado dos períodos $T_r$, $T_c$ e $T$, bem como das ferquências normalizadas $u$ e $v$. Comece tentando gerar senoides 2D, onde $T_r$ ou $T_c$ é nulo. "
   ]
  },
  {
   "cell_type": "code",
   "execution_count": 16,
   "metadata": {
    "collapsed": true
   },
   "outputs": [],
   "source": [
    "%matplotlib inline\n",
    "import matplotlib.pyplot as plt\n",
    "import numpy as np\n",
    "from numpy.fft import fft2\n",
    "import sys,os\n",
    "ia898path = os.path.abspath('../../')\n",
    "if ia898path not in sys.path:\n",
    "    sys.path.append(ia898path)\n",
    "import ia898.src as ia"
   ]
  },
  {
   "cell_type": "code",
   "execution_count": 61,
   "metadata": {},
   "outputs": [
    {
     "data": {
      "text/html": [
       "<head><style>        table, th, td { border: 0px solid black;        text-align: center;border-collapse: collapse;}</style></head>        <body><table border=\"0\"><td>            <table><tr><td><img src='data:image/png;base64,iVBORw0KGgoAAAANSUhEUgAAAQAAAACACAAAAADB3ujWAAACOUlEQVR4nOXdx5HDMBAAQWBECaJD/nHSW/EeMnU5TABbQO9/auN1nce+LvM4Dn3XdV3X9f04Tsu6HecVuN1TKuu6aducc85t29RVmVJRxHCd+7bO0zT0n8GhH6d5WffjFSLFIz2rqmnec7ltmqp6pkdBDK9jX5d5GvvPYN8P4zyv235eIRZFSmX1/8GmKlO63wjXeWzrMo3D76fDMM3Lup1nCLfinp5lXbe/wbqunulR3GJ4nfu6zuM4/HtwmpftOK6A3B+R+2/I/Xfk/gdyf0LuL5H7K+T+Grm/Ru5vkftb5P6M3P9egNifkfszcn9G7s/I/S1yf4PcXyP3V8j9FXJ/Qu5PyP135P4iRrefGNz+gNx/Ife/7P4DuX9D7l+R+xfk/gm5f0LuH5D7B+T+Hrm/Q+5/L0Ds75D7O+T+Drm/Q+7vkfsH5P4BuX9E7p+R+xfk/hW5f0PuP+Lp9p/I/QG5P2D3I/cXyP135P6E3P9E7i+R+yvk/ga5v0Hu/4WTVv83nNT6P+Gk1/9egNifkfszcn9G7m+R+1vk/ga5v0bur5D7n8j9Cbn/gdx/j7j9txjkfuT+gNx/Ifcfdv+B3L8i96/I/TNy/4TcPyL3D8j9325Q6++R+7/hpNb/CSe9/nc4KfZ3yP0dcn+H3D8g9/fI/SNy/4TcPyP3L8j9G3L/jtx/Ive/7P6A3B+R+z8HF73+Arn/gdyfkPtL5P4Sub9G7m+Q+3/hpNX/DSe1/t/BRav/e3BR689/QUOV3sGx0lYAAAAASUVORK5CYII='/></td></tr>            <tr><td align='center'></td></tr></table></td><tr></tr></table></body>"
      ],
      "text/plain": [
       "<IPython.core.display.HTML object>"
      ]
     },
     "metadata": {},
     "output_type": "display_data"
    }
   ],
   "source": [
    "H = 128\n",
    "W = 256\n",
    "s = (H,W)\n",
    "T = 40\n",
    "theta = 45 * np.pi/180\n",
    "f = ia.cos(s, T, theta, 0)\n",
    "ia.adshow(ia.normalize(f, [0,255]))"
   ]
  },
  {
   "cell_type": "markdown",
   "metadata": {},
   "source": [
    "**OBS: estou usando a função adshow no lugar da implot pois percebi um efeito quadriculado na visualização (vejam abaixo).**"
   ]
  },
  {
   "cell_type": "code",
   "execution_count": 67,
   "metadata": {},
   "outputs": [
    {
     "data": {
      "text/plain": [
       "<matplotlib.image.AxesImage at 0x11934cfd0>"
      ]
     },
     "execution_count": 67,
     "metadata": {},
     "output_type": "execute_result"
    },
    {
     "data": {
      "image/png": "[encoded data removed]",
      "text/plain": [
       "<matplotlib.figure.Figure at 0x118a93b70>"
      ]
     },
     "metadata": {},
     "output_type": "display_data"
    }
   ],
   "source": [
    "plt.imshow(f, cmap='gray')"
   ]
  },
  {
   "cell_type": "markdown",
   "metadata": {},
   "source": [
    "### Parte 2 - Calculando a translação periódica\n",
    "\n",
    "A próxima atividade consiste em entender as diferentes implementações da translação periódica. Procure comparar as 3 versões ([translação periódica](09 Translacao periodica.ipynb)). \n",
    "\n",
    "1. Primeiro, transforme a primeira implementação em uma função que recebe parâmetros para realizar a translação (rr, cc). \n",
    "2. Implemente a terceira forma indicada no link acima (usando slicing). \n",
    "3. Compare as 3 formas, em termos de resultado e de tempo. É provável que a última opção seja a mais eficiente de todas, pois somente utiliza fatiamento.\n",
    "\n",
    "Um dos cuidados nas implementações é observar que os parâmetros da translação podem ser negativos ou ainda bem maiores que a largura ou altura da imagem.\n",
    "\n"
   ]
  },
  {
   "cell_type": "markdown",
   "metadata": {},
   "source": [
    "### Parte 3 - Calculando a Transformada de Fourier de uma onda senoidal\n",
    "\n",
    "Antes de continuar, leia sobre a Transformada Discreta de Fourier (DFT) e sobre a Transformada Rápida de Fourier (FFT). Além dos slides colocados no Google Calssroom, dê uma olhada em alguns links interessantes:\n",
    "\n",
    "- [demo](http://bigwww.epfl.ch/demo/ip/demos/FFT/)\n",
    "- [explicação intuitiva](https://betterexplained.com/articles/an-interactive-guide-to-the-fourier-transform/)\n",
    "\n",
    "No exemplo abaixo, a partir da onda senoidal bidimensional gerada na parte 1, calculamos a Transformada de Fourier usando a função *fft2* do numpy. Para a visualização, é necessário fazer a translação periódica, para colocar a origem do espectro (0,0) no centro da imagem. Também é preciso usar o valor da magnitude do espectro resultante, já que o resultado da transformação é uma matriz complexa. E por fim, costumamos visualizar o log do resultado."
   ]
  },
  {
   "cell_type": "code",
   "execution_count": 65,
   "metadata": {},
   "outputs": [
    {
     "data": {
      "text/html": [
       "<head><style>        table, th, td { border: 0px solid black;        text-align: center;border-collapse: collapse;}</style></head>        <body><table border=\"0\"><td>            <table><tr><td><img src='data:image/png;base64,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'/></td></tr>            <tr><td align='center'>[0, 255]</td></tr></table></td><tr></tr></table></body>"
      ],
      "text/plain": [
       "<IPython.core.display.HTML object>"
      ]
     },
     "metadata": {},
     "output_type": "display_data"
    }
   ],
   "source": [
    "faux = f\n",
    "F = fft2(faux)\n",
    "H,W = faux.shape\n",
    "ia.adshow(ia.normalize(np.log(np.abs(ia.ptrans(F,(H//2,W//2))+1))), [0,255])"
   ]
  },
  {
   "cell_type": "markdown",
   "metadata": {},
   "source": [
    "1. Experimente visualizar a Transformada de Fourier de diversas formas: sem fazer a translação periódica, sem calcular o logaritmo. Observe as diferenças e comente.\n",
    "2. Crie uma função auxiliar de visualização da Transformada de Fourier, assim como fizeram para visualização de múltiplas imagens, pois ela será bastante utilizada neste e nos próximos notebooks.\n",
    "3. Explique porque o espectro de Fourier não aparece como apenas 2 pontos (senoide). Modifique a senoide *f* para obter apenas 2 pontos na Transformada de Fourier. (DICA: a imagem *f* que estamos buscando ainda será uma senoide bidimensional, porém com alguma propriedade que evite o efeito observado.) Uma outra maneira de tentar entender o que está causando o problema é criar o espectro que se deseja de forma sintética (uma imagem com 2 pontos equidistantes do centro e diametralmente opostos - dizemos que é um par de pontos complexos conjugados) e fazer a transformada inversa de Fourier (ifft2 do numpy) para obter a imagem da senoide buscada."
   ]
  }
 ],
 "metadata": {
  "kernelspec": {
   "display_name": "Python 3",
   "language": "python",
   "name": "python3"
  },
  "language_info": {
   "codemirror_mode": {
    "name": "ipython",
    "version": 3
   },
   "file_extension": ".py",
   "mimetype": "text/x-python",
   "name": "python",
   "nbconvert_exporter": "python",
   "pygments_lexer": "ipython3",
   "version": "3.6.1"
  }
 },
 "nbformat": 4,
 "nbformat_minor": 2
}
